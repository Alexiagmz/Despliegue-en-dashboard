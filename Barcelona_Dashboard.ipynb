{
 "cells": [
  {
   "cell_type": "code",
   "execution_count": null,
   "metadata": {},
   "outputs": [],
   "source": [
    "#instalamos la libreria STREAMLIT\n",
    "%pip install streamlit"
   ]
  },
  {
   "cell_type": "code",
   "execution_count": 3,
   "metadata": {},
   "outputs": [
    {
     "name": "stdout",
     "output_type": "stream",
     "text": [
      "Requirement already satisfied: plotly in c:\\users\\alexi\\appdata\\local\\programs\\python\\python312\\lib\\site-packages (5.24.1)\n",
      "Requirement already satisfied: tenacity>=6.2.0 in c:\\users\\alexi\\appdata\\local\\programs\\python\\python312\\lib\\site-packages (from plotly) (9.0.0)\n",
      "Requirement already satisfied: packaging in c:\\users\\alexi\\appdata\\roaming\\python\\python312\\site-packages (from plotly) (24.1)\n",
      "Note: you may need to restart the kernel to use updated packages.\n"
     ]
    }
   ],
   "source": [
    "#Instalamos la libreria de PLOTLY\n",
    "%pip install plotly"
   ]
  },
  {
   "cell_type": "code",
   "execution_count": null,
   "metadata": {},
   "outputs": [],
   "source": [
    "#Instalamos libreria para análisis de variables categóricas\n",
    "%pip install funpymodeling"
   ]
  },
  {
   "cell_type": "code",
   "execution_count": 5,
   "metadata": {},
   "outputs": [
    {
     "name": "stdout",
     "output_type": "stream",
     "text": [
      "\n",
      "added 22 packages in 3s\n",
      "\n",
      "3 packages are looking for funding\n",
      "  run `npm fund` for details\n"
     ]
    },
    {
     "name": "stderr",
     "output_type": "stream",
     "text": [
      "npm notice\n",
      "npm notice New minor version of npm available! 10.8.2 -> 10.9.0\n",
      "npm notice Changelog: https://github.com/npm/cli/releases/tag/v10.9.0\n",
      "npm notice To update run: npm install -g npm@10.9.0\n",
      "npm notice\n"
     ]
    }
   ],
   "source": [
    "#Para instalar npm en visual studio\n",
    "#1. Desde Google escribir node.js\n",
    "#2. Instalar la versión más recomendada \n",
    "! npm install localtunnel"
   ]
  },
  {
   "cell_type": "code",
   "execution_count": 35,
   "metadata": {},
   "outputs": [
    {
     "name": "stdout",
     "output_type": "stream",
     "text": [
      "Overwriting app.py\n"
     ]
    }
   ],
   "source": [
    "%%writefile app.py \n",
    "#Creamos el archivo de la APP en el interprete principal (Phyton)\n",
    "\n",
    "# Archivo de la APP para el Dashboard de análisis de Barcelona\n",
    "\n",
    "############################# IMPLEMENTACIÓN DE DASHBOARD ################################\n",
    "\n",
    "# Importamos las librerías\n",
    "import streamlit as st\n",
    "import plotly.express as px\n",
    "import pandas as pd\n",
    "import numpy as np\n",
    "import seaborn as sns\n",
    "from sklearn.preprocessing import PolynomialFeatures\n",
    "from sklearn.linear_model import LinearRegression\n",
    "from sklearn.model_selection import train_test_split\n",
    "from sklearn.metrics import mean_squared_error, r2_score\n",
    "from funpymodeling.exploratory import freq_tbl \n",
    "#################################################################\n",
    "\n",
    "# Cargar el dataset de Barcelona\n",
    "@st.cache_resource\n",
    "def load_data():\n",
    "    # Lectura del archivo CSV sin índice y eliminamos la columna 'Unnamed: 0'\n",
    "    df = pd.read_csv(\"Barcelona_limpios_valores.csv\").drop(columns=['Unnamed: 0'], errors='ignore')\n",
    "    \n",
    "    # Selección de columnas categóricas y numéricas\n",
    "    categorical_cols = df.select_dtypes(include=['object']).columns\n",
    "    numeric_cols = df.select_dtypes(include=['float', 'int']).columns\n",
    "\n",
    "    # Filtro univariado para 'property_type', 'room_type', y 'host_response_time'\n",
    "    table = freq_tbl(df['property_type'])\n",
    "    table1 = freq_tbl(df['room_type'])\n",
    "    table2 = freq_tbl(df['host_response_time'])\n",
    "    \n",
    "    Filtro = table[table['frequency'] > 200]\n",
    "    Filtro1 = table1[table1['frequency'] > 1]\n",
    "    Filtro2 = table2[table2['frequency'] > 400]  \n",
    "\n",
    "    # Ajusto el índice de mi dataframe\n",
    "    Filtro_index = Filtro.set_index('property_type')        \n",
    "    Filtro_index1 = Filtro1.set_index('room_type')               \n",
    "    Filtro_index2 = Filtro2.set_index('host_response_time')\n",
    "\n",
    "    # Devuelvo las tablas filtradas y las columnas categóricas y numéricas\n",
    "    return Filtro_index, Filtro_index1, Filtro_index2, df, categorical_cols, numeric_cols\n",
    "\n",
    "# Llamada a la función para cargar los datos\n",
    "Filtro_index, Filtro_index1, Filtro_index2, df, categorical_cols, numeric_cols = load_data()\n",
    "\n",
    "###################### CREACIÓN DEL DASHBOARD ################################\n",
    "\n",
    "# 1. CREACIÓN DE LA SIDEBAR\n",
    "st.sidebar.title(\"Airbnb Barcelona\")\n",
    "st.sidebar.header(\"Sidebar\")\n",
    "st.sidebar.subheader(\"Panel de selección\")\n",
    "\n",
    "# 2. CREACIÓN DE LOS FRAMES\n",
    "Frames = st.selectbox(label=\"Frames\", options=[\"Frame 1\", \"Frame 2\", \"Frame 3\", \"Frame 4\"])\n",
    "\n",
    "######################################################################################\n",
    "#CONTENIDO DEL FRAME 1\n",
    "if Frames == \"Frame 1\":\n",
    "    st.title(\"Análisis Univariado - Barcelona\")\n",
    "    st.header(\"Gráfico de pastel\")\n",
    "\n",
    "    # Checkbox para mostrar el dataset completo\n",
    "    check_box = st.sidebar.checkbox(label=\"Mostrar Dataset Completo\")\n",
    "    if check_box:\n",
    "        st.write(df)\n",
    "    \n",
    "    # Widget para seleccionar entre las tres variables categóricas\n",
    "    category_selected = st.sidebar.selectbox(\"Seleccionar categoría para gráfico de pastel\",options=[\"property_type\", \"room_type\", \"host_response_time\"])\n",
    "\n",
    "    # GRAPH: Pie Chart \n",
    "    if category_selected == \"property_type\":\n",
    "        data_to_plot = Filtro_index\n",
    "    elif category_selected == \"room_type\":\n",
    "        data_to_plot = Filtro_index1\n",
    "    else:\n",
    "        data_to_plot = Filtro_index2\n",
    "\n",
    "    figure1 = px.pie(data_frame=data_to_plot, names=data_to_plot.index, values='frequency',title=f\"Distribución de {category_selected}\", width=1600, height=600,color_discrete_sequence=px.colors.sequential.Reds)\n",
    "\n",
    "    st.plotly_chart(figure1)\n",
    "\n",
    "###############################################################################################\n",
    "#CONTENIDO DEL FRAME 2\n",
    "if Frames == \"Frame 2\":\n",
    "    st.title(\"Análisis de Datos - Barcelona\")\n",
    "    st.header(\"Gráficos: Bar Plot y Histograma\")\n",
    "\n",
    "    # Seleccionar cualquier variable categórica del dataset para el Bar Plot\n",
    "    variable_selected = st.sidebar.selectbox(\"Seleccionar variable categórica para el Bar Plot\", options=categorical_cols)\n",
    "\n",
    "    # Selección de variable numérica para el Histograma\n",
    "    num_var_selected = st.sidebar.selectbox(\"Seleccionar variable numérica para el Histograma\", options=numeric_cols)\n",
    "\n",
    "    # GRAPH: Crear un BarPlot\n",
    "    category_data = df.groupby(variable_selected).size().reset_index(name='counts')\n",
    "    figure_bar = px.bar(data_frame=category_data, x=variable_selected, y='counts', title=f\"Bar Plot de {variable_selected}\", width=1600, height=600, color_discrete_sequence=['#FF0000'])\n",
    "    \n",
    "    # GRAPH: Crear un Histograma\n",
    "    figure_hist = px.histogram(df, x=num_var_selected, title=f\"Histograma de {num_var_selected}\", width=1600, height=600, color_discrete_sequence=['#FF0000'])\n",
    "\n",
    "    # Mostrar ambos gráficos uno debajo del otro\n",
    "    st.plotly_chart(figure_bar)\n",
    "    st.plotly_chart(figure_hist)\n",
    "\n",
    "####################################################################################################################\n",
    "#CONTENIDO DEL FRAME 3\n",
    "if Frames == \"Frame 3\":\n",
    "    st.title(\"Análisis de Datos - Barcelona\")\n",
    "    st.header(\"Dispersiones\")\n",
    "\n",
    "    # Widget para seleccionar cualquier variable categórica y numérica\n",
    "    x_selected = st.sidebar.selectbox(\"Seleccionar variable categórica para el eje X\", options=categorical_cols)\n",
    "    y_selected = st.sidebar.selectbox(\"Seleccionar variable numérica para el eje Y\", options=numeric_cols)\n",
    "\n",
    "    # GRAPH: Scatter Plot \n",
    "    figure3 = px.scatter(df, x=x_selected, y=y_selected, title=f\"Dispersión entre {x_selected} vs {y_selected}\",width=1600, height=600, color_discrete_sequence=['#FF0000'])\n",
    "    \n",
    "    st.plotly_chart(figure3)\n",
    "\n",
    "####################################################################################################################\n",
    "#CONTENIDO DEL FRAME 4 \n",
    "if Frames == \"Frame 4\":\n",
    "    st.title(\"Análisis de Regresión No Lineal - Barcelona\")\n",
    "    st.header(\"Regresión Polinómica\")\n",
    "\n",
    "    # Selección de variables para el análisis de regresión no lineal\n",
    "    x_selected = st.sidebar.selectbox(\"Seleccionar variable independiente (X)\", options=numeric_cols)\n",
    "    y_selected = st.sidebar.selectbox(\"Seleccionar variable dependiente (Y)\", options=numeric_cols)\n",
    "\n",
    "    # Preparar los datos para la regresión no lineal\n",
    "    X = df[[x_selected]]\n",
    "    y = df[y_selected]\n",
    "\n",
    "    # Aplicar la regresión polinómica (grado 2)\n",
    "    poly = PolynomialFeatures(degree=2)\n",
    "    X_poly = poly.fit_transform(X)\n",
    "\n",
    "    # Dividimos los datos en entrenamiento y prueba\n",
    "    X_train, X_test, y_train, y_test = train_test_split(X_poly, y, test_size=0.2, random_state=42)\n",
    "\n",
    "    # Crear el modelo de regresión lineal y entrenarlo\n",
    "    model = LinearRegression()\n",
    "    model.fit(X_train, y_train)\n",
    "\n",
    "    # Predecir en el conjunto de prueba\n",
    "    y_pred = model.predict(X_test)\n",
    "\n",
    "    # Mostrar los resultados de la regresión\n",
    "    st.write(f\"Coeficientes del modelo: {model.coef_}\")\n",
    "    st.write(f\"R²: {r2_score(y_test, y_pred)}\")\n",
    "\n",
    "    # Mostrar el scatter plot de los valores predichos frente a los valores reales con color rojo\n",
    "    figure4 = px.scatter(x=y_test, y=y_pred, labels={'x': 'Valores Reales', 'y': 'Valores Predichos'},\n",
    "                         title=\"Regresión No Lineal: Valores Reales vs Predichos\", \n",
    "                         width=1600, height=600, color_discrete_sequence=['#FF0000'])\n",
    "\n",
    "    st.plotly_chart(figure4)"
   ]
  }
 ],
 "metadata": {
  "kernelspec": {
   "display_name": "Python 3",
   "language": "python",
   "name": "python3"
  },
  "language_info": {
   "codemirror_mode": {
    "name": "ipython",
    "version": 3
   },
   "file_extension": ".py",
   "mimetype": "text/x-python",
   "name": "python",
   "nbconvert_exporter": "python",
   "pygments_lexer": "ipython3",
   "version": "3.12.5"
  }
 },
 "nbformat": 4,
 "nbformat_minor": 2
}
